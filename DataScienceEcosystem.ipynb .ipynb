{
 "cells": [
  {
   "cell_type": "markdown",
   "id": "d8b797b3-9ede-455f-afb1-5bf563ed3b76",
   "metadata": {},
   "source": [
    "# Data Science Tools and Ecosystem"
   ]
  },
  {
   "cell_type": "markdown",
   "id": "f9813d21-a436-4f40-98a2-08af6e21f55c",
   "metadata": {},
   "source": [
    "**In this notebook, Data Science Tools and Ecosystem are summarized**"
   ]
  },
  {
   "cell_type": "markdown",
   "id": "3ed1197c-0cb7-4cf9-8737-1491befd04ca",
   "metadata": {},
   "source": [
    "**Objectives**\n",
    "- List popular languages for Data Science\n",
    "- List commonly used library used by Data Science\n",
    "- List Data Science tools"
   ]
  },
  {
   "cell_type": "markdown",
   "id": "d0f3b02c-1a8f-4c96-9b76-38812bf334e8",
   "metadata": {
    "tags": []
   },
   "source": [
    "## Author\n",
    "Deepika"
   ]
  },
  {
   "cell_type": "markdown",
   "id": "7b15cfd5-2346-4cf2-924d-0d6d1b8fd0b2",
   "metadata": {},
   "source": [
    "Some of the popular languages that Data Scientists use are:\n",
    "1. Python\n",
    "2. SQL\n",
    "3. R"
   ]
  },
  {
   "cell_type": "markdown",
   "id": "56db87da-1a29-4492-8452-73d0ce55da28",
   "metadata": {},
   "source": [
    "Some of the commonly used libraries used by Data Scientists include:\n",
    "1. Numpy\n",
    "2. Pandas\n",
    "3. seaborn\n",
    "4. sci-kit learn"
   ]
  },
  {
   "cell_type": "markdown",
   "id": "4ba226db-5b4d-410a-8456-b86bcc497c73",
   "metadata": {},
   "source": [
    "| Data Science Tools |\n",
    "| -----------------  |\n",
    "| Hadoop             |\n",
    "| Power BI           |\n",
    "| TensorFlow         |\n"
   ]
  },
  {
   "cell_type": "markdown",
   "id": "07a35c78-401b-4c3f-bb7a-971cc0b840f3",
   "metadata": {},
   "source": [
    "### Below are a few examples of evaluating arithmetic expressions in Python"
   ]
  },
  {
   "cell_type": "code",
   "execution_count": 3,
   "id": "4c31f561-ac2e-47fc-afd8-6bfa8508eee3",
   "metadata": {
    "tags": []
   },
   "outputs": [
    {
     "data": {
      "text/plain": [
       "17"
      ]
     },
     "execution_count": 3,
     "metadata": {},
     "output_type": "execute_result"
    }
   ],
   "source": [
    "# This a simple arithmetic expression to mutiply then add integers\n",
    "(3*4)+5"
   ]
  },
  {
   "cell_type": "code",
   "execution_count": 4,
   "id": "38e96d79-ecde-4bc9-bbb8-b3b783d89415",
   "metadata": {
    "tags": []
   },
   "outputs": [
    {
     "data": {
      "text/plain": [
       "3.3333333333333335"
      ]
     },
     "execution_count": 4,
     "metadata": {},
     "output_type": "execute_result"
    }
   ],
   "source": [
    "#This will convert 200 minutes to hours by diving by 60\n",
    "minutes = 200\n",
    "hours = minutes / 60\n",
    "hours"
   ]
  },
  {
   "cell_type": "code",
   "execution_count": null,
   "id": "a4f5eb05-0ac8-46bd-a490-f53be37d6462",
   "metadata": {},
   "outputs": [],
   "source": []
  }
 ],
 "metadata": {
  "kernelspec": {
   "display_name": "Python",
   "language": "python",
   "name": "conda-env-python-py"
  },
  "language_info": {
   "codemirror_mode": {
    "name": "ipython",
    "version": 3
   },
   "file_extension": ".py",
   "mimetype": "text/x-python",
   "name": "python",
   "nbconvert_exporter": "python",
   "pygments_lexer": "ipython3",
   "version": "3.7.12"
  }
 },
 "nbformat": 4,
 "nbformat_minor": 5
}
